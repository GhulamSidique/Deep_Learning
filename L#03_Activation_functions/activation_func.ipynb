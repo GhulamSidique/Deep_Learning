{
 "cells": [
  {
   "cell_type": "markdown",
   "metadata": {},
   "source": [
    "### Activation functions decide whether a neuron should be activated or not. Whether the information that the neuron is receiving is relevant for the given information or it should be ignored.\n",
    "### there are 6 types of activation functions discussed below\n",
    "## 1) Threshold:\n",
    "### in this function if --> x >= 0 then 1, and if --> x < 0 then 0. Here x is the input value.\n",
    "## 2) Sigmoid function:\n",
    "### this is the S like curve that reduces extreme values or outliers in data without removing them. It converts independent values in the range of 0 and 1. \n",
    "### formula --> f(x) = 1 / (1 + e^-x), here x is the weighted sum of neurons. if the values is >= 0 then 1 and 0 otherwise.\n",
    "## 3) Rectified ReLu function:\n",
    "### It is non linear and hence we can easily back propagate the errors and have multiple layers of neurons being activated by the ReLu function\n",
    "### formula --> f(x) = max(x, 0), if the values is <=0 then 0\n",
    "## 4) Leaky ReLu function:\n",
    "### It is the improved version of rectified relu function. as at value <= 0 the relu provided 0 and that means the neurons are no longer the part of training. therefor, to address this issue the leaky relu function defines a small linear component of x and value <= 0.\n",
    "## 5) tanh function:\n",
    "### it represents a ratio hyperbolic sine to the hyperbolic cosine --> tanh(x) = sinh(x) / cosh(h)\n",
    "### the normalized range of values here is 1 and -1.\n",
    "### it deals easily with the negative values\n",
    "### formula --> f(x) = (1 - e^-2x) / (1 + e^-2x)\n",
    "## 6) Softmax function:\n",
    "### it calculates the probablities of each target class over all possible target classes.\n",
    "### the range of values is between 0 and 1. \n",
    "### formula --> softmax(Xi) = exp(Xi) / sum(exp(Xi))"
   ]
  },
  {
   "cell_type": "code",
   "execution_count": null,
   "metadata": {},
   "outputs": [],
   "source": []
  }
 ],
 "metadata": {
  "language_info": {
   "name": "python"
  }
 },
 "nbformat": 4,
 "nbformat_minor": 2
}
